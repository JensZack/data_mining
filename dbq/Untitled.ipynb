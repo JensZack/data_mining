{
 "cells": [
  {
   "cell_type": "code",
   "execution_count": 1,
   "id": "32fb9d74",
   "metadata": {},
   "outputs": [],
   "source": [
    "import os\n",
    "from datetime import datetime\n",
    "import numpy as np\n",
    "import matplotlib.pyplot as plt\n",
    "import pandas as pd\n",
    "import geopandas as gpd\n",
    "from shapely.geometry import Point\n",
    "import contextily as ctx\n",
    "import ulmo"
   ]
  },
  {
   "cell_type": "code",
   "execution_count": 2,
   "id": "7119e2f5",
   "metadata": {},
   "outputs": [
    {
     "data": {
      "text/plain": [
       "('SNOTEL:301_CA_SNTL',\n",
       " {'code': '301_CA_SNTL',\n",
       "  'name': 'Adin Mtn',\n",
       "  'network': 'SNOTEL',\n",
       "  'location': {'latitude': '41.2358283996582',\n",
       "   'longitude': '-120.79192352294922'},\n",
       "  'elevation_m': '1886.7120361328125',\n",
       "  'site_property': {'county': 'Modoc',\n",
       "   'state': 'California',\n",
       "   'site_comments': 'beginDate=10/1/1983 12:00:00 AM|endDate=1/1/2100 12:00:00 AM|HUC=180200021403|HUD=18020002|TimeZone=-8.0|actonId=20H13S|shefId=ADMC1|stationTriplet=301:CA:SNTL|isActive=True',\n",
       "   'pos_accuracy_m': '0'}})"
      ]
     },
     "execution_count": 2,
     "metadata": {},
     "output_type": "execute_result"
    }
   ],
   "source": [
    "#This is the latest CUAHSI API endpoint\n",
    "wsdlurl = 'https://hydroportal.cuahsi.org/Snotel/cuahsi_1_1.asmx?WSDL'\n",
    "\n",
    "sites = ulmo.cuahsi.wof.get_sites(wsdlurl)\n",
    "\n",
    "#Preview first item in dictionary\n",
    "next(iter(sites.items()))"
   ]
  },
  {
   "cell_type": "code",
   "execution_count": 1,
   "id": "01a1e06f",
   "metadata": {},
   "outputs": [],
   "source": [
    "import arcgis"
   ]
  },
  {
   "cell_type": "code",
   "execution_count": null,
   "id": "047e01e3",
   "metadata": {},
   "outputs": [],
   "source": []
  }
 ],
 "metadata": {
  "kernelspec": {
   "display_name": "Python 3 (ipykernel)",
   "language": "python",
   "name": "python3"
  },
  "language_info": {
   "codemirror_mode": {
    "name": "ipython",
    "version": 3
   },
   "file_extension": ".py",
   "mimetype": "text/x-python",
   "name": "python",
   "nbconvert_exporter": "python",
   "pygments_lexer": "ipython3",
   "version": "3.9.16"
  }
 },
 "nbformat": 4,
 "nbformat_minor": 5
}
